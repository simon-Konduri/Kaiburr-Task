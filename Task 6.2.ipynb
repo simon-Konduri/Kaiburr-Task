{
 "cells": [
  {
   "cell_type": "markdown",
   "metadata": {},
   "source": [
    "# Text classification (multiclass) \n",
    "\n",
    "### Tutorial for beginners in text classification analysis using Python"
   ]
  },
  {
   "cell_type": "markdown",
   "metadata": {},
   "source": [
    "__Data__: Consumer complaints received about financial products and services<br>\n",
    "__Data source:__ Public dataset downloaded from \n",
    "https://catalog.data.gov/dataset/consumer-complaint-database\n",
    "on 2019, May 13.\n",
    "\n",
    "These are real world complaints received about financial products and services. Each complaint has been labeled with a specific product; therefore, this is a supervised text classification problem. With the aim to classify future complaints based on its content, we used different machine learning algorithms can make more accurate predictions (i.e., classify the complaint in one of the product categories)."
   ]
  },
  {
   "cell_type": "markdown",
   "metadata": {},
   "source": [
    "# Table of Content\n",
    "\n",
    "* [Goal](#obj)\n",
    "* [Importing packages and loading data](#imp)\n",
    "* [Exploratory Data Analysis (EDA) and Feature Engineering](#eda)\n",
    "* [Text Preprocessing](#pre)\n",
    "* [Multi-Classification models](#ml)\n",
    "    * [Spliting the data: train and test](#sp)\n",
    "    * [Models](#m)\n",
    "* [Comparison of model performance](#sum)\n",
    "* [Model Evaluation](#ev)\n",
    "    * [Precision, Recall, F1-score](#f1)\n",
    "    * [Confusion Matrix](#cm)\n",
    "* [Predictions](#pred)"
   ]
  },
  {
   "cell_type": "markdown",
   "metadata": {},
   "source": [
    "<a id='obj'></a>\n",
    "## Goal:<br>\n",
    "Classify consumer complaints into predefined categories.<br><br>\n",
    "Classification algorithms: Linear Support Vector Machine (LinearSVM), Random Forest, Multinomial Naive Bayes and Logistic Regression.<br><br>\n",
    "Note: Text classification is an example of supervised machine learning since we train the model with labelled data (complaints about and specific finance product is used for train a classifier."
   ]
  },
  {
   "cell_type": "markdown",
   "metadata": {},
   "source": [
    "<a id='imp'></a>\n",
    "## Importing packages and loading data"
   ]
  },
  {
   "cell_type": "code",
   "execution_count": 1,
   "metadata": {
    "_cell_guid": "b1076dfc-b9ad-4769-8c92-a6c4dae69d19",
    "_uuid": "8f2839f25d086af736a60e9eeb907d3b93b6e0e5"
   },
   "outputs": [],
   "source": [
    "# Input data files are available in the \"../input/\" directory.\n",
    "import os\n",
    "# print(os.listdir(\"../input\"))\n",
    "\n",
    "import pandas as pd\n",
    "import numpy as np\n",
    "from scipy.stats import randint\n",
    "import seaborn as sns # used for plot interactive graph. \n",
    "import matplotlib.pyplot as plt\n",
    "import seaborn as sns\n",
    "from io import StringIO\n",
    "from sklearn.feature_extraction.text import TfidfVectorizer\n",
    "from sklearn.feature_selection import chi2\n",
    "from IPython.display import display\n",
    "from sklearn.model_selection import train_test_split\n",
    "from sklearn.feature_extraction.text import TfidfTransformer\n",
    "from sklearn.naive_bayes import MultinomialNB\n",
    "from sklearn.linear_model import LogisticRegression\n",
    "from sklearn.ensemble import RandomForestClassifier\n",
    "from sklearn.svm import LinearSVC\n",
    "from sklearn.model_selection import cross_val_score\n",
    "from sklearn.metrics import confusion_matrix\n",
    "from sklearn import metrics\n",
    "#import warnings\n",
    "#warnings.filterwarnings(\"ignore\", category=FutureWarning)"
   ]
  },
  {
   "cell_type": "code",
   "execution_count": 2,
   "metadata": {},
   "outputs": [
    {
     "data": {
      "text/plain": [
       "(4065103, 18)"
      ]
     },
     "execution_count": 2,
     "metadata": {},
     "output_type": "execute_result"
    }
   ],
   "source": [
    "# loading data\n",
    "df = pd.read_csv(r\"complaints.csv\")\n",
    "df.shape"
   ]
  },
  {
   "cell_type": "markdown",
   "metadata": {},
   "source": [
    "We have more than 1 million instances (rows) and 18 features (columns)."
   ]
  },
  {
   "cell_type": "markdown",
   "metadata": {},
   "source": [
    "<a id='eda'></a>\n",
    "## Exploratory Data Analysis (EDA) and Feature Engineering"
   ]
  },
  {
   "cell_type": "code",
   "execution_count": 3,
   "metadata": {},
   "outputs": [
    {
     "data": {
      "text/html": [
       "<div>\n",
       "<style scoped>\n",
       "    .dataframe tbody tr th:only-of-type {\n",
       "        vertical-align: middle;\n",
       "    }\n",
       "\n",
       "    .dataframe tbody tr th {\n",
       "        vertical-align: top;\n",
       "    }\n",
       "\n",
       "    .dataframe thead th {\n",
       "        text-align: right;\n",
       "    }\n",
       "</style>\n",
       "<table border=\"1\" class=\"dataframe\">\n",
       "  <thead>\n",
       "    <tr style=\"text-align: right;\">\n",
       "      <th></th>\n",
       "      <th>0</th>\n",
       "      <th>1</th>\n",
       "    </tr>\n",
       "  </thead>\n",
       "  <tbody>\n",
       "    <tr>\n",
       "      <th>Date received</th>\n",
       "      <td>2023-09-04</td>\n",
       "      <td>2023-09-06</td>\n",
       "    </tr>\n",
       "    <tr>\n",
       "      <th>Product</th>\n",
       "      <td>Money transfer, virtual currency, or money ser...</td>\n",
       "      <td>Debt collection</td>\n",
       "    </tr>\n",
       "    <tr>\n",
       "      <th>Sub-product</th>\n",
       "      <td>Mobile or digital wallet</td>\n",
       "      <td>Other debt</td>\n",
       "    </tr>\n",
       "    <tr>\n",
       "      <th>Issue</th>\n",
       "      <td>Trouble accessing funds in your mobile or digi...</td>\n",
       "      <td>Attempts to collect debt not owed</td>\n",
       "    </tr>\n",
       "    <tr>\n",
       "      <th>Sub-issue</th>\n",
       "      <td>NaN</td>\n",
       "      <td>Debt was result of identity theft</td>\n",
       "    </tr>\n",
       "    <tr>\n",
       "      <th>Consumer complaint narrative</th>\n",
       "      <td>NaN</td>\n",
       "      <td>NaN</td>\n",
       "    </tr>\n",
       "    <tr>\n",
       "      <th>Company public response</th>\n",
       "      <td>NaN</td>\n",
       "      <td>Company believes the complaint is the result o...</td>\n",
       "    </tr>\n",
       "    <tr>\n",
       "      <th>Company</th>\n",
       "      <td>Paypal Holdings, Inc</td>\n",
       "      <td>CCS Financial Services, Inc.</td>\n",
       "    </tr>\n",
       "    <tr>\n",
       "      <th>State</th>\n",
       "      <td>NC</td>\n",
       "      <td>FL</td>\n",
       "    </tr>\n",
       "    <tr>\n",
       "      <th>ZIP code</th>\n",
       "      <td>27587</td>\n",
       "      <td>33032</td>\n",
       "    </tr>\n",
       "    <tr>\n",
       "      <th>Tags</th>\n",
       "      <td>NaN</td>\n",
       "      <td>NaN</td>\n",
       "    </tr>\n",
       "    <tr>\n",
       "      <th>Consumer consent provided?</th>\n",
       "      <td>NaN</td>\n",
       "      <td>NaN</td>\n",
       "    </tr>\n",
       "    <tr>\n",
       "      <th>Submitted via</th>\n",
       "      <td>Web</td>\n",
       "      <td>Web</td>\n",
       "    </tr>\n",
       "    <tr>\n",
       "      <th>Date sent to company</th>\n",
       "      <td>2023-09-04</td>\n",
       "      <td>2023-09-06</td>\n",
       "    </tr>\n",
       "    <tr>\n",
       "      <th>Company response to consumer</th>\n",
       "      <td>Closed with explanation</td>\n",
       "      <td>Closed with explanation</td>\n",
       "    </tr>\n",
       "    <tr>\n",
       "      <th>Timely response?</th>\n",
       "      <td>Yes</td>\n",
       "      <td>Yes</td>\n",
       "    </tr>\n",
       "    <tr>\n",
       "      <th>Consumer disputed?</th>\n",
       "      <td>NaN</td>\n",
       "      <td>NaN</td>\n",
       "    </tr>\n",
       "    <tr>\n",
       "      <th>Complaint ID</th>\n",
       "      <td>7493283</td>\n",
       "      <td>7510657</td>\n",
       "    </tr>\n",
       "  </tbody>\n",
       "</table>\n",
       "</div>"
      ],
      "text/plain": [
       "                                                                              0  \\\n",
       "Date received                                                        2023-09-04   \n",
       "Product                       Money transfer, virtual currency, or money ser...   \n",
       "Sub-product                                            Mobile or digital wallet   \n",
       "Issue                         Trouble accessing funds in your mobile or digi...   \n",
       "Sub-issue                                                                   NaN   \n",
       "Consumer complaint narrative                                                NaN   \n",
       "Company public response                                                     NaN   \n",
       "Company                                                    Paypal Holdings, Inc   \n",
       "State                                                                        NC   \n",
       "ZIP code                                                                  27587   \n",
       "Tags                                                                        NaN   \n",
       "Consumer consent provided?                                                  NaN   \n",
       "Submitted via                                                               Web   \n",
       "Date sent to company                                                 2023-09-04   \n",
       "Company response to consumer                            Closed with explanation   \n",
       "Timely response?                                                            Yes   \n",
       "Consumer disputed?                                                          NaN   \n",
       "Complaint ID                                                            7493283   \n",
       "\n",
       "                                                                              1  \n",
       "Date received                                                        2023-09-06  \n",
       "Product                                                         Debt collection  \n",
       "Sub-product                                                          Other debt  \n",
       "Issue                                         Attempts to collect debt not owed  \n",
       "Sub-issue                                     Debt was result of identity theft  \n",
       "Consumer complaint narrative                                                NaN  \n",
       "Company public response       Company believes the complaint is the result o...  \n",
       "Company                                            CCS Financial Services, Inc.  \n",
       "State                                                                        FL  \n",
       "ZIP code                                                                  33032  \n",
       "Tags                                                                        NaN  \n",
       "Consumer consent provided?                                                  NaN  \n",
       "Submitted via                                                               Web  \n",
       "Date sent to company                                                 2023-09-06  \n",
       "Company response to consumer                            Closed with explanation  \n",
       "Timely response?                                                            Yes  \n",
       "Consumer disputed?                                                          NaN  \n",
       "Complaint ID                                                            7510657  "
      ]
     },
     "execution_count": 3,
     "metadata": {},
     "output_type": "execute_result"
    }
   ],
   "source": [
    "df.head(2).T # Columns are shown in rows for easy reading"
   ]
  },
  {
   "cell_type": "markdown",
   "metadata": {},
   "source": [
    "The dataset contains features that are not necessary to solve our multi-classification problem. For this text classification problem, we are going to build another dataframe that contains ‘Product’ and ‘Consumer complaint narrative’ (renamed as 'Consumer_complaint')."
   ]
  },
  {
   "cell_type": "code",
   "execution_count": 4,
   "metadata": {
    "_cell_guid": "79c7e3d0-c299-4dcb-8224-4455121ee9b0",
    "_uuid": "d629ff2d2480ee46fbb7e2d37f6b5fab8052498a"
   },
   "outputs": [
    {
     "data": {
      "text/plain": [
       "(1472203, 2)"
      ]
     },
     "execution_count": 4,
     "metadata": {},
     "output_type": "execute_result"
    }
   ],
   "source": [
    "# Create a new dataframe with two columns\n",
    "df1 = df[['Product', 'Consumer complaint narrative']].copy()\n",
    "\n",
    "# Remove missing values (NaN)\n",
    "df1 = df1[pd.notnull(df1['Consumer complaint narrative'])]\n",
    "\n",
    "# Renaming second column for a simpler name\n",
    "df1.columns = ['Product', 'Consumer_complaint'] \n",
    "\n",
    "df1.shape"
   ]
  },
  {
   "cell_type": "code",
   "execution_count": 5,
   "metadata": {},
   "outputs": [
    {
     "data": {
      "text/plain": [
       "36.2"
      ]
     },
     "execution_count": 5,
     "metadata": {},
     "output_type": "execute_result"
    }
   ],
   "source": [
    "# Percentage of complaints with text\n",
    "total = df1['Consumer_complaint'].notnull().sum()\n",
    "round((total/len(df)*100),1)"
   ]
  },
  {
   "cell_type": "markdown",
   "metadata": {},
   "source": [
    "From more than 1 million complaints, there are about 380,000 cases with text (~ 30% of the original dataset is not null). This is still a good number to work with. Now let's have a look at the categories we want to classify each complaint."
   ]
  },
  {
   "cell_type": "code",
   "execution_count": 6,
   "metadata": {},
   "outputs": [
    {
     "data": {
      "text/plain": [
       "array([['Money transfer, virtual currency, or money service'],\n",
       "       ['Debt collection'],\n",
       "       ['Checking or savings account'],\n",
       "       ['Credit reporting or other personal consumer reports'],\n",
       "       ['Mortgage'],\n",
       "       ['Credit card'],\n",
       "       ['Vehicle loan or lease'],\n",
       "       ['Credit reporting, credit repair services, or other personal consumer reports'],\n",
       "       ['Student loan'],\n",
       "       ['Payday loan, title loan, personal loan, or advance loan'],\n",
       "       ['Credit card or prepaid card'],\n",
       "       ['Consumer Loan'],\n",
       "       ['Prepaid card'],\n",
       "       ['Bank account or service'],\n",
       "       ['Payday loan, title loan, or personal loan'],\n",
       "       ['Debt or credit management'],\n",
       "       ['Credit reporting'],\n",
       "       ['Payday loan'],\n",
       "       ['Money transfers'],\n",
       "       ['Other financial service'],\n",
       "       ['Virtual currency']], dtype=object)"
      ]
     },
     "execution_count": 6,
     "metadata": {},
     "output_type": "execute_result"
    }
   ],
   "source": [
    "pd.DataFrame(df.Product.unique()).values"
   ]
  },
  {
   "cell_type": "markdown",
   "metadata": {},
   "source": [
    "There are 18 different classes or categories (target). However; it is observed that some classes are contained in others. For instance, ‘Credit card’ and ‘Prepaid card’ are contained in ‘Credit card or prepaid card’ category. Now, imagine there is a new complaint about Credit card and we want to classify it. The algorithm can either classify this complaint as 'Credit card' or 'Credit card or prepaid' and it would be correct. Nevertheless, this would affect model performance. In order to avoid this problem, the names of some categories were renamed."
   ]
  },
  {
   "cell_type": "code",
   "execution_count": 7,
   "metadata": {},
   "outputs": [],
   "source": [
    "# Because the computation is time consuming (in terms of CPU), the data was sampled\n",
    "df2 = df1.sample(10000, random_state=1).copy()"
   ]
  },
  {
   "cell_type": "code",
   "execution_count": 8,
   "metadata": {},
   "outputs": [],
   "source": [
    "# Renaming categories\n",
    "df2.replace({'Product': \n",
    "             {'Credit reporting, credit repair services, or other personal consumer reports': \n",
    "              'Credit reporting, repair, or other', \n",
    "              'Credit reporting': 'Credit reporting, repair, or other',\n",
    "             'Credit card': 'Credit card or prepaid card',\n",
    "             'Prepaid card': 'Credit card or prepaid card',\n",
    "             'Payday loan': 'Payday loan, title loan, or personal loan',\n",
    "             'Money transfer': 'Money transfer, virtual currency, or money service',\n",
    "             'Virtual currency': 'Money transfer, virtual currency, or money service'}}, \n",
    "            inplace= True)"
   ]
  },
  {
   "cell_type": "code",
   "execution_count": 9,
   "metadata": {},
   "outputs": [
    {
     "data": {
      "text/html": [
       "<div>\n",
       "<style scoped>\n",
       "    .dataframe tbody tr th:only-of-type {\n",
       "        vertical-align: middle;\n",
       "    }\n",
       "\n",
       "    .dataframe tbody tr th {\n",
       "        vertical-align: top;\n",
       "    }\n",
       "\n",
       "    .dataframe thead th {\n",
       "        text-align: right;\n",
       "    }\n",
       "</style>\n",
       "<table border=\"1\" class=\"dataframe\">\n",
       "  <thead>\n",
       "    <tr style=\"text-align: right;\">\n",
       "      <th></th>\n",
       "      <th>0</th>\n",
       "    </tr>\n",
       "  </thead>\n",
       "  <tbody>\n",
       "    <tr>\n",
       "      <th>0</th>\n",
       "      <td>Credit reporting, repair, or other</td>\n",
       "    </tr>\n",
       "    <tr>\n",
       "      <th>1</th>\n",
       "      <td>Mortgage</td>\n",
       "    </tr>\n",
       "    <tr>\n",
       "      <th>2</th>\n",
       "      <td>Checking or savings account</td>\n",
       "    </tr>\n",
       "    <tr>\n",
       "      <th>3</th>\n",
       "      <td>Credit card or prepaid card</td>\n",
       "    </tr>\n",
       "    <tr>\n",
       "      <th>4</th>\n",
       "      <td>Debt collection</td>\n",
       "    </tr>\n",
       "    <tr>\n",
       "      <th>5</th>\n",
       "      <td>Money transfer, virtual currency, or money ser...</td>\n",
       "    </tr>\n",
       "    <tr>\n",
       "      <th>6</th>\n",
       "      <td>Payday loan, title loan, or personal loan</td>\n",
       "    </tr>\n",
       "    <tr>\n",
       "      <th>7</th>\n",
       "      <td>Student loan</td>\n",
       "    </tr>\n",
       "    <tr>\n",
       "      <th>8</th>\n",
       "      <td>Consumer Loan</td>\n",
       "    </tr>\n",
       "    <tr>\n",
       "      <th>9</th>\n",
       "      <td>Vehicle loan or lease</td>\n",
       "    </tr>\n",
       "    <tr>\n",
       "      <th>10</th>\n",
       "      <td>Bank account or service</td>\n",
       "    </tr>\n",
       "    <tr>\n",
       "      <th>11</th>\n",
       "      <td>Money transfers</td>\n",
       "    </tr>\n",
       "    <tr>\n",
       "      <th>12</th>\n",
       "      <td>Other financial service</td>\n",
       "    </tr>\n",
       "    <tr>\n",
       "      <th>13</th>\n",
       "      <td>Credit reporting or other personal consumer re...</td>\n",
       "    </tr>\n",
       "  </tbody>\n",
       "</table>\n",
       "</div>"
      ],
      "text/plain": [
       "                                                    0\n",
       "0                  Credit reporting, repair, or other\n",
       "1                                            Mortgage\n",
       "2                         Checking or savings account\n",
       "3                         Credit card or prepaid card\n",
       "4                                     Debt collection\n",
       "5   Money transfer, virtual currency, or money ser...\n",
       "6           Payday loan, title loan, or personal loan\n",
       "7                                        Student loan\n",
       "8                                       Consumer Loan\n",
       "9                               Vehicle loan or lease\n",
       "10                            Bank account or service\n",
       "11                                    Money transfers\n",
       "12                            Other financial service\n",
       "13  Credit reporting or other personal consumer re..."
      ]
     },
     "execution_count": 9,
     "metadata": {},
     "output_type": "execute_result"
    }
   ],
   "source": [
    "pd.DataFrame(df2.Product.unique())"
   ]
  },
  {
   "cell_type": "markdown",
   "metadata": {},
   "source": [
    "The number of classes were reduced from 18 to 13. <br><br>Now we need to represent each class as a number, so as our predictive model can better understand the different categories."
   ]
  },
  {
   "cell_type": "code",
   "execution_count": 10,
   "metadata": {},
   "outputs": [
    {
     "data": {
      "text/html": [
       "<div>\n",
       "<style scoped>\n",
       "    .dataframe tbody tr th:only-of-type {\n",
       "        vertical-align: middle;\n",
       "    }\n",
       "\n",
       "    .dataframe tbody tr th {\n",
       "        vertical-align: top;\n",
       "    }\n",
       "\n",
       "    .dataframe thead th {\n",
       "        text-align: right;\n",
       "    }\n",
       "</style>\n",
       "<table border=\"1\" class=\"dataframe\">\n",
       "  <thead>\n",
       "    <tr style=\"text-align: right;\">\n",
       "      <th></th>\n",
       "      <th>Product</th>\n",
       "      <th>Consumer_complaint</th>\n",
       "      <th>category_id</th>\n",
       "    </tr>\n",
       "  </thead>\n",
       "  <tbody>\n",
       "    <tr>\n",
       "      <th>337270</th>\n",
       "      <td>Credit reporting, repair, or other</td>\n",
       "      <td>The date of my first letter was XXXX. I sent a...</td>\n",
       "      <td>0</td>\n",
       "    </tr>\n",
       "    <tr>\n",
       "      <th>814826</th>\n",
       "      <td>Credit reporting, repair, or other</td>\n",
       "      <td>I was XXXX and my ID and social security card ...</td>\n",
       "      <td>0</td>\n",
       "    </tr>\n",
       "    <tr>\n",
       "      <th>1157572</th>\n",
       "      <td>Credit reporting, repair, or other</td>\n",
       "      <td>I'm really not sure what happened. I have mail...</td>\n",
       "      <td>0</td>\n",
       "    </tr>\n",
       "    <tr>\n",
       "      <th>589205</th>\n",
       "      <td>Mortgage</td>\n",
       "      <td>I was impacted by hurricane Irma and then Mich...</td>\n",
       "      <td>1</td>\n",
       "    </tr>\n",
       "    <tr>\n",
       "      <th>2863449</th>\n",
       "      <td>Checking or savings account</td>\n",
       "      <td>I am a XXXX XXXX  XXXX by trade. \\n\\nAt the en...</td>\n",
       "      <td>2</td>\n",
       "    </tr>\n",
       "  </tbody>\n",
       "</table>\n",
       "</div>"
      ],
      "text/plain": [
       "                                    Product  \\\n",
       "337270   Credit reporting, repair, or other   \n",
       "814826   Credit reporting, repair, or other   \n",
       "1157572  Credit reporting, repair, or other   \n",
       "589205                             Mortgage   \n",
       "2863449         Checking or savings account   \n",
       "\n",
       "                                        Consumer_complaint  category_id  \n",
       "337270   The date of my first letter was XXXX. I sent a...            0  \n",
       "814826   I was XXXX and my ID and social security card ...            0  \n",
       "1157572  I'm really not sure what happened. I have mail...            0  \n",
       "589205   I was impacted by hurricane Irma and then Mich...            1  \n",
       "2863449  I am a XXXX XXXX  XXXX by trade. \\n\\nAt the en...            2  "
      ]
     },
     "execution_count": 10,
     "metadata": {},
     "output_type": "execute_result"
    }
   ],
   "source": [
    "# Create a new column 'category_id' with encoded categories \n",
    "df2['category_id'] = df2['Product'].factorize()[0]\n",
    "category_id_df = df2[['Product', 'category_id']].drop_duplicates()\n",
    "\n",
    "\n",
    "# Dictionaries for future use\n",
    "category_to_id = dict(category_id_df.values)\n",
    "id_to_category = dict(category_id_df[['category_id', 'Product']].values)\n",
    "\n",
    "# New dataframe\n",
    "df2.head()"
   ]
  },
  {
   "cell_type": "markdown",
   "metadata": {},
   "source": [
    "The bar chart below shows the number of complaints per category. It can be observed that The bar chart below shows the number of complaints per category. It can be observed that most of customer complaints are due to:\n",
    "* credit reporting, credit repair\n",
    "* debt collection \n",
    "* mortgage "
   ]
  },
  {
   "cell_type": "code",
   "execution_count": 11,
   "metadata": {},
   "outputs": [
    {
     "data": {
      "image/png": "[encoded data removed]",
      "text/plain": [
       "<Figure size 800x600 with 1 Axes>"
      ]
     },
     "metadata": {},
     "output_type": "display_data"
    }
   ],
   "source": [
    "fig = plt.figure(figsize=(8,6))\n",
    "colors = ['grey','grey','grey','grey','grey','grey','grey','grey','grey',\n",
    "    'grey','darkblue','darkblue','darkblue']\n",
    "df2.groupby('Product').Consumer_complaint.count().sort_values().plot.barh(\n",
    "    ylim=0, color=colors, title= 'NUMBER OF COMPLAINTS IN EACH PRODUCT CATEGORY\\n')\n",
    "plt.xlabel('Number of ocurrences', fontsize = 10);"
   ]
  },
  {
   "cell_type": "markdown",
   "metadata": {},
   "source": [
    "<a id='pre'></a>\n",
    "## Text Preprocessing\n",
    "\n",
    "The text needs to be transformed to vectors so as the algorithms will be able make predictions. In this case it will be used the Term Frequency – Inverse Document Frequency (TFIDF) weight to evaluate __how important a word is to a document in a collection of documents__.\n",
    "\n",
    "After removing __punctuation__ and __lower casing__ the words, importance of a word is determined in terms of its frequency."
   ]
  },
  {
   "cell_type": "markdown",
   "metadata": {},
   "source": [
    "### “Term Frequency – Inverse Document Frequency \n",
    "\n",
    "__TF-IDF__ is the product of the __TF__ and __IDF__ scores of the term.<br><br> $$\\text{TF-IDF}=\\frac{\\text{TF}}{\\text{IDF}}$$<br>\n",
    "\n",
    "__Term Frequency :__ This summarizes how often a given word appears within a document.\n",
    "\n",
    "$$\\text{TF} = \\frac{\\text{Number of times the term appears in the doc}}{\\text{Total number of words in the doc}}$$<br><br>\n",
    "__Inverse Document Frequency:__ This downscales words that appear a lot across documents. A term has a high IDF score if it appears in a few documents. Conversely, if the term is very common among documents (i.e., “the”, “a”, “is”), the term would have a low IDF score.<br>\n",
    "\n",
    "$$\\text{IDF} = \\ln\\left(\\frac{\\text{Number of docs}}{\\text{Number docs the term appears in}} \\right)$$<br>\n",
    "\n",
    "TF-IDF are word frequency scores that try to highlight words that are more interesting, e.g. frequent in a document but not across documents. The higher the TFIDF score, the rarer the term is. For instance, in a Mortgage complaint the word _mortgage_ would be mentioned fairly often. However, if we look at other complaints, _mortgage_ probably would not show up in many of them. We can infer that _mortgage_ is most probably an important word in Mortgage complaints as compared to the other products. Therefore, _mortgage_ would have a high TF-IDF score for Mortgage complaints.\n",
    "\n",
    "TfidfVectorizer class can be initialized with the following parameters:\n",
    "* __min_df__: remove the words from the vocabulary which have occurred in less than ‘min_df’ number of files.\n",
    "* __max_df__: remove the words from the vocabulary which have occurred in more than _‘max_df’ * total number of files in corpus_.\n",
    "* __sublinear_tf__: set to True to scale the term frequency in logarithmic scale.\n",
    "* __stop_words__: remove the predefined stop words in 'english'.\n",
    "* __use_idf__: weight factor must use inverse document frequency.\n",
    "* __ngram_range__: (1, 2) to indicate that unigrams and bigrams will be considered."
   ]
  },
  {
   "cell_type": "code",
   "execution_count": 12,
   "metadata": {},
   "outputs": [
    {
     "name": "stdout",
     "output_type": "stream",
     "text": [
      "Each of the 10000 complaints is represented by 26339 features (TF-IDF score of unigrams and bigrams)\n"
     ]
    }
   ],
   "source": [
    "tfidf = TfidfVectorizer(sublinear_tf=True, min_df=5,\n",
    "                        ngram_range=(1, 2), \n",
    "                        stop_words='english')\n",
    "\n",
    "# We transform each complaint into a vector\n",
    "features = tfidf.fit_transform(df2.Consumer_complaint).toarray()\n",
    "\n",
    "labels = df2.category_id\n",
    "\n",
    "print(\"Each of the %d complaints is represented by %d features (TF-IDF score of unigrams and bigrams)\" %(features.shape))"
   ]
  },
  {
   "cell_type": "code",
   "execution_count": 14,
   "metadata": {},
   "outputs": [
    {
     "name": "stdout",
     "output_type": "stream",
     "text": [
      "\n",
      "==> Bank account or service:\n",
      "  * Most Correlated Unigrams are: cd, stocks, promotion\n",
      "  * Most Correlated Bigrams are: checking account, xxxx 2015, posting xxxx\n",
      "\n",
      "==> Checking or savings account:\n",
      "  * Most Correlated Unigrams are: deposited, overdraft, bank\n",
      "  * Most Correlated Bigrams are: overdraft fees, savings account, checking account\n",
      "\n",
      "==> Consumer Loan:\n",
      "  * Most Correlated Unigrams are: vehicle, car, motor\n",
      "  * Most Correlated Bigrams are: title loan, chrysler capital, car car\n",
      "\n",
      "==> Credit card or prepaid card:\n",
      "  * Most Correlated Unigrams are: express, amex, card\n",
      "  * Most Correlated Bigrams are: use card, american express, credit card\n",
      "\n",
      "==> Credit reporting or other personal consumer reports:\n",
      "  * Most Correlated Unigrams are: usc, treat, 166b\n",
      "  * Most Correlated Bigrams are: end consumer, late purpose, 166b creditor\n",
      "\n",
      "==> Credit reporting, repair, or other:\n",
      "  * Most Correlated Unigrams are: 1681, section, reporting\n",
      "  * Most Correlated Bigrams are: consumer reporting, 15 1681, 1681 section\n",
      "\n",
      "==> Debt collection:\n",
      "  * Most Correlated Unigrams are: collect, collection, debt\n",
      "  * Most Correlated Bigrams are: collection agency, debt collection, collect debt\n",
      "\n",
      "==> Money transfer, virtual currency, or money service:\n",
      "  * Most Correlated Unigrams are: zelle, coinbase, paypal\n",
      "  * Most Correlated Bigrams are: send money, coinbase account, paypal account\n",
      "\n",
      "==> Money transfers:\n",
      "  * Most Correlated Unigrams are: misunderstanding, traded, game\n",
      "  * Most Correlated Bigrams are: way contact, complaint said, took money\n",
      "\n",
      "==> Mortgage:\n",
      "  * Most Correlated Unigrams are: escrow, modification, mortgage\n",
      "  * Most Correlated Bigrams are: mortgage payment, mortgage company, loan modification\n",
      "\n",
      "==> Other financial service:\n",
      "  * Most Correlated Unigrams are: resend, apology, proposal\n",
      "  * Most Correlated Bigrams are: pay sent, limited income, money order\n",
      "\n",
      "==> Payday loan, title loan, or personal loan:\n",
      "  * Most Correlated Unigrams are: loan, tribal, payday\n",
      "  * Most Correlated Bigrams are: lending club, main financial, payday loan\n",
      "\n",
      "==> Student loan:\n",
      "  * Most Correlated Unigrams are: loans, student, navient\n",
      "  * Most Correlated Bigrams are: loan forgiveness, student loans, student loan\n",
      "\n",
      "==> Vehicle loan or lease:\n",
      "  * Most Correlated Unigrams are: santander, car, vehicle\n",
      "  * Most Correlated Bigrams are: ally financial, consumer usa, santander consumer\n"
     ]
    }
   ],
   "source": [
    "# Finding the three most correlated terms with each of the product categories\n",
    "N = 3\n",
    "for Product, category_id in sorted(category_to_id.items()):\n",
    "  features_chi2 = chi2(features, labels == category_id)\n",
    "  indices = np.argsort(features_chi2[0])\n",
    "  feature_names = np.array(tfidf.get_feature_names_out())[indices]\n",
    "  unigrams = [v for v in feature_names if len(v.split(' ')) == 1]\n",
    "  bigrams = [v for v in feature_names if len(v.split(' ')) == 2]\n",
    "  print(\"\\n==> %s:\" %(Product))\n",
    "  print(\"  * Most Correlated Unigrams are: %s\" %(', '.join(unigrams[-N:])))\n",
    "  print(\"  * Most Correlated Bigrams are: %s\" %(', '.join(bigrams[-N:])))"
   ]
  },
  {
   "cell_type": "markdown",
   "metadata": {},
   "source": [
    "<a id='ml'></a>\n",
    "## Multi-Classification models\n",
    "\n",
    "The classification models evaluated are: \n",
    "* Random Forest\n",
    "* Linear Support Vector Machine\n",
    "* Multinomial Naive Bayes \n",
    "* Logistic Regression."
   ]
  },
  {
   "cell_type": "markdown",
   "metadata": {},
   "source": [
    "<a id='sp'></a>\n",
    "### Spliting the data into train and test sets\n",
    "The original data was divided into features (X) and target (y), which were then splitted into train (75%) and test (25%) sets. Thus, the algorithms would be trained on one set of data and tested out on a completely different set of data (not seen before by the algorithm)."
   ]
  },
  {
   "cell_type": "code",
   "execution_count": 15,
   "metadata": {},
   "outputs": [],
   "source": [
    "X = df2['Consumer_complaint'] # Collection of documents\n",
    "y = df2['Product'] # Target or the labels we want to predict (i.e., the 13 different complaints of products)\n",
    "\n",
    "X_train, X_test, y_train, y_test = train_test_split(X, y, \n",
    "                                                    test_size=0.25,\n",
    "                                                    random_state = 0)"
   ]
  },
  {
   "cell_type": "markdown",
   "metadata": {},
   "source": [
    "<a id='m'></a>\n",
    "### Models"
   ]
  },
  {
   "cell_type": "code",
   "execution_count": 18,
   "metadata": {},
   "outputs": [
    {
     "name": "stderr",
     "output_type": "stream",
     "text": [
      "C:\\Users\\MSI\\anaconda3\\lib\\site-packages\\sklearn\\model_selection\\_split.py:700: UserWarning: The least populated class in y has only 1 members, which is less than n_splits=3.\n",
      "  warnings.warn(\n",
      "C:\\Users\\MSI\\anaconda3\\lib\\site-packages\\sklearn\\model_selection\\_split.py:700: UserWarning: The least populated class in y has only 1 members, which is less than n_splits=3.\n",
      "  warnings.warn(\n",
      "C:\\Users\\MSI\\anaconda3\\lib\\site-packages\\sklearn\\model_selection\\_split.py:700: UserWarning: The least populated class in y has only 1 members, which is less than n_splits=3.\n",
      "  warnings.warn(\n",
      "C:\\Users\\MSI\\anaconda3\\lib\\site-packages\\sklearn\\linear_model\\_logistic.py:458: ConvergenceWarning: lbfgs failed to converge (status=1):\n",
      "STOP: TOTAL NO. of ITERATIONS REACHED LIMIT.\n",
      "\n",
      "Increase the number of iterations (max_iter) or scale the data as shown in:\n",
      "    https://scikit-learn.org/stable/modules/preprocessing.html\n",
      "Please also refer to the documentation for alternative solver options:\n",
      "    https://scikit-learn.org/stable/modules/linear_model.html#logistic-regression\n",
      "  n_iter_i = _check_optimize_result(\n",
      "C:\\Users\\MSI\\anaconda3\\lib\\site-packages\\sklearn\\linear_model\\_logistic.py:458: ConvergenceWarning: lbfgs failed to converge (status=1):\n",
      "STOP: TOTAL NO. of ITERATIONS REACHED LIMIT.\n",
      "\n",
      "Increase the number of iterations (max_iter) or scale the data as shown in:\n",
      "    https://scikit-learn.org/stable/modules/preprocessing.html\n",
      "Please also refer to the documentation for alternative solver options:\n",
      "    https://scikit-learn.org/stable/modules/linear_model.html#logistic-regression\n",
      "  n_iter_i = _check_optimize_result(\n",
      "C:\\Users\\MSI\\anaconda3\\lib\\site-packages\\sklearn\\linear_model\\_logistic.py:458: ConvergenceWarning: lbfgs failed to converge (status=1):\n",
      "STOP: TOTAL NO. of ITERATIONS REACHED LIMIT.\n",
      "\n",
      "Increase the number of iterations (max_iter) or scale the data as shown in:\n",
      "    https://scikit-learn.org/stable/modules/preprocessing.html\n",
      "Please also refer to the documentation for alternative solver options:\n",
      "    https://scikit-learn.org/stable/modules/linear_model.html#logistic-regression\n",
      "  n_iter_i = _check_optimize_result(\n"
     ]
    }
   ],
   "source": [
    "models = [\n",
    "    RandomForestClassifier(n_estimators=100, max_depth=5, random_state=0),\n",
    "    #LinearSVC(),\n",
    "    MultinomialNB(),\n",
    "    LogisticRegression(random_state=0),\n",
    "]\n",
    "\n",
    "# 5 Cross-validation\n",
    "CV = 3\n",
    "cv_df = pd.DataFrame(index=range(CV * len(models)))\n",
    "\n",
    "entries = []\n",
    "for model in models:\n",
    "  model_name = model.__class__.__name__\n",
    "  accuracies = cross_val_score(model, features, labels, scoring='accuracy', cv=CV)\n",
    "  for fold_idx, accuracy in enumerate(accuracies):\n",
    "    entries.append((model_name, fold_idx, accuracy))\n",
    "    \n",
    "cv_df = pd.DataFrame(entries, columns=['model_name', 'fold_idx', 'accuracy'])"
   ]
  },
  {
   "cell_type": "markdown",
   "metadata": {},
   "source": [
    "<a id='sum'></a>\n",
    "## Comparison of model performance\n",
    "\n",
    "The best mean acuracy was obtained with LinearSVC."
   ]
  },
  {
   "cell_type": "code",
   "execution_count": 19,
   "metadata": {},
   "outputs": [
    {
     "data": {
      "text/html": [
       "<div>\n",
       "<style scoped>\n",
       "    .dataframe tbody tr th:only-of-type {\n",
       "        vertical-align: middle;\n",
       "    }\n",
       "\n",
       "    .dataframe tbody tr th {\n",
       "        vertical-align: top;\n",
       "    }\n",
       "\n",
       "    .dataframe thead th {\n",
       "        text-align: right;\n",
       "    }\n",
       "</style>\n",
       "<table border=\"1\" class=\"dataframe\">\n",
       "  <thead>\n",
       "    <tr style=\"text-align: right;\">\n",
       "      <th></th>\n",
       "      <th>Mean Accuracy</th>\n",
       "      <th>Standard deviation</th>\n",
       "    </tr>\n",
       "    <tr>\n",
       "      <th>model_name</th>\n",
       "      <th></th>\n",
       "      <th></th>\n",
       "    </tr>\n",
       "  </thead>\n",
       "  <tbody>\n",
       "    <tr>\n",
       "      <th>LogisticRegression</th>\n",
       "      <td>0.7970</td>\n",
       "      <td>0.004424</td>\n",
       "    </tr>\n",
       "    <tr>\n",
       "      <th>MultinomialNB</th>\n",
       "      <td>0.6469</td>\n",
       "      <td>0.003668</td>\n",
       "    </tr>\n",
       "    <tr>\n",
       "      <th>RandomForestClassifier</th>\n",
       "      <td>0.5465</td>\n",
       "      <td>0.000150</td>\n",
       "    </tr>\n",
       "  </tbody>\n",
       "</table>\n",
       "</div>"
      ],
      "text/plain": [
       "                        Mean Accuracy  Standard deviation\n",
       "model_name                                               \n",
       "LogisticRegression             0.7970            0.004424\n",
       "MultinomialNB                  0.6469            0.003668\n",
       "RandomForestClassifier         0.5465            0.000150"
      ]
     },
     "execution_count": 19,
     "metadata": {},
     "output_type": "execute_result"
    }
   ],
   "source": [
    "mean_accuracy = cv_df.groupby('model_name').accuracy.mean()\n",
    "std_accuracy = cv_df.groupby('model_name').accuracy.std()\n",
    "\n",
    "acc = pd.concat([mean_accuracy, std_accuracy], axis= 1, \n",
    "          ignore_index=True)\n",
    "acc.columns = ['Mean Accuracy', 'Standard deviation']\n",
    "acc"
   ]
  },
  {
   "cell_type": "code",
   "execution_count": 20,
   "metadata": {},
   "outputs": [
    {
     "data": {
      "image/png": "[encoded data removed]",
      "text/plain": [
       "<Figure size 800x500 with 1 Axes>"
      ]
     },
     "metadata": {},
     "output_type": "display_data"
    }
   ],
   "source": [
    "plt.figure(figsize=(8,5))\n",
    "sns.boxplot(x='model_name', y='accuracy', \n",
    "            data=cv_df, \n",
    "            color='lightblue', \n",
    "            showmeans=True)\n",
    "plt.title(\"MEAN ACCURACY (cv = 5)\\n\", size=14);"
   ]
  },
  {
   "cell_type": "markdown",
   "metadata": {},
   "source": [
    "<a id='ev'></a>\n",
    "## Model Evaluation"
   ]
  },
  {
   "cell_type": "code",
   "execution_count": 21,
   "metadata": {},
   "outputs": [],
   "source": [
    "X_train, X_test, y_train, y_test,indices_train,indices_test = train_test_split(features, \n",
    "                                                               labels, \n",
    "                                                               df2.index, test_size=0.25, \n",
    "                                                               random_state=1)\n",
    "model = LinearSVC()\n",
    "model.fit(X_train, y_train)\n",
    "y_pred = model.predict(X_test)"
   ]
  },
  {
   "cell_type": "markdown",
   "metadata": {},
   "source": [
    "It is possible to observe that the classes with more support (number of occurrences) tend to have a better f1-cscore. This is because the algorithm was trained with more data.<br><br>\n",
    "The classes that can be classified with more precision are __‘Mortgage’__, __‘Credit reporting, repair, or other’__, and __‘Student loan’__."
   ]
  },
  {
   "cell_type": "markdown",
   "metadata": {},
   "source": [
    "<a id='cm'></a>\n",
    "### Confusion Matrix\n",
    "\n",
    "A Confusion Matrix is a table which rows represent the actual class and columns represents the predicted class.<br><br>\n",
    "If we had a perfect model that always classifies correctly a new complaint, then the confusion matrix would have values in the diagonal only (where predicted label = actual label)."
   ]
  },
  {
   "cell_type": "code",
   "execution_count": 24,
   "metadata": {},
   "outputs": [
    {
     "data": {
      "image/png": "[encoded data removed]",
      "text/plain": [
       "<Figure size 800x800 with 2 Axes>"
      ]
     },
     "metadata": {},
     "output_type": "display_data"
    }
   ],
   "source": [
    "conf_mat = confusion_matrix(y_test, y_pred)\n",
    "fig, ax = plt.subplots(figsize=(8,8))\n",
    "sns.heatmap(conf_mat, annot=True, cmap=\"Blues\", fmt='d',\n",
    "            xticklabels=category_id_df.Product.values, \n",
    "            yticklabels=category_id_df.Product.values)\n",
    "plt.ylabel('Actual')\n",
    "plt.xlabel('Predicted')\n",
    "plt.title(\"CONFUSION MATRIX - LinearSVC\\n\", size=16);"
   ]
  },
  {
   "cell_type": "markdown",
   "metadata": {},
   "source": [
    "In general, the confusion matrix looks good (clear diagonal that represents correct classifications). Nevertheless, there are cases were the complaint was classified in a wrong class.\n",
    "\n",
    "#### Misclassified complaints\n",
    "Let’s have a look at the cases that were wrongly classified."
   ]
  },
  {
   "cell_type": "code",
   "execution_count": 25,
   "metadata": {},
   "outputs": [
    {
     "name": "stdout",
     "output_type": "stream",
     "text": [
      "'Credit card or prepaid card' predicted as 'Credit reporting, repair, or other' : 35 examples.\n"
     ]
    },
    {
     "data": {
      "text/html": [
       "<div>\n",
       "<style scoped>\n",
       "    .dataframe tbody tr th:only-of-type {\n",
       "        vertical-align: middle;\n",
       "    }\n",
       "\n",
       "    .dataframe tbody tr th {\n",
       "        vertical-align: top;\n",
       "    }\n",
       "\n",
       "    .dataframe thead th {\n",
       "        text-align: right;\n",
       "    }\n",
       "</style>\n",
       "<table border=\"1\" class=\"dataframe\">\n",
       "  <thead>\n",
       "    <tr style=\"text-align: right;\">\n",
       "      <th></th>\n",
       "      <th>Product</th>\n",
       "      <th>Consumer_complaint</th>\n",
       "    </tr>\n",
       "  </thead>\n",
       "  <tbody>\n",
       "    <tr>\n",
       "      <th>1795848</th>\n",
       "      <td>Credit card or prepaid card</td>\n",
       "      <td>I have had several credit cards closed by issu...</td>\n",
       "    </tr>\n",
       "    <tr>\n",
       "      <th>471714</th>\n",
       "      <td>Credit card or prepaid card</td>\n",
       "      <td>I am XXXX XXXX XXXX and I am submitting this c...</td>\n",
       "    </tr>\n",
       "    <tr>\n",
       "      <th>1439608</th>\n",
       "      <td>Credit card or prepaid card</td>\n",
       "      <td>CHASE CARD MADE A HARD INQUIRE ON MY CREDIT RE...</td>\n",
       "    </tr>\n",
       "    <tr>\n",
       "      <th>2380553</th>\n",
       "      <td>Credit card or prepaid card</td>\n",
       "      <td>I checked my report on XX/XX/2021 and see this...</td>\n",
       "    </tr>\n",
       "    <tr>\n",
       "      <th>986201</th>\n",
       "      <td>Credit card or prepaid card</td>\n",
       "      <td>I have not received confirmation not certified...</td>\n",
       "    </tr>\n",
       "    <tr>\n",
       "      <th>1866351</th>\n",
       "      <td>Credit card or prepaid card</td>\n",
       "      <td>There are duplicate accounts reflected on all ...</td>\n",
       "    </tr>\n",
       "    <tr>\n",
       "      <th>811589</th>\n",
       "      <td>Credit card or prepaid card</td>\n",
       "      <td>On XX/XX/XXXX, I called XXXX XXXX XXXX to inqu...</td>\n",
       "    </tr>\n",
       "    <tr>\n",
       "      <th>532930</th>\n",
       "      <td>Credit card or prepaid card</td>\n",
       "      <td>XXXX card did a hard inquiry in my credit with...</td>\n",
       "    </tr>\n",
       "    <tr>\n",
       "      <th>1869638</th>\n",
       "      <td>Credit card or prepaid card</td>\n",
       "      <td>The following debit card transactions of withd...</td>\n",
       "    </tr>\n",
       "    <tr>\n",
       "      <th>3241057</th>\n",
       "      <td>Credit card or prepaid card</td>\n",
       "      <td>It is highly unjustifiable to have late paymen...</td>\n",
       "    </tr>\n",
       "    <tr>\n",
       "      <th>1038835</th>\n",
       "      <td>Credit card or prepaid card</td>\n",
       "      <td>I have not received confirmation not certified...</td>\n",
       "    </tr>\n",
       "    <tr>\n",
       "      <th>1525094</th>\n",
       "      <td>Credit card or prepaid card</td>\n",
       "      <td>I attempted to pay my HSBC XXXX ( Account XXXX...</td>\n",
       "    </tr>\n",
       "    <tr>\n",
       "      <th>2711355</th>\n",
       "      <td>Credit card or prepaid card</td>\n",
       "      <td>capital one closed my account with no phone ca...</td>\n",
       "    </tr>\n",
       "    <tr>\n",
       "      <th>2537411</th>\n",
       "      <td>Credit card or prepaid card</td>\n",
       "      <td>This is causing me a lot of stress and XXXX, a...</td>\n",
       "    </tr>\n",
       "    <tr>\n",
       "      <th>3907840</th>\n",
       "      <td>Credit card or prepaid card</td>\n",
       "      <td>On XX/XX/2021 I received an email from a 3rd p...</td>\n",
       "    </tr>\n",
       "    <tr>\n",
       "      <th>1802494</th>\n",
       "      <td>Credit card or prepaid card</td>\n",
       "      <td>XXXX years ago, My Credit Score was dropped fr...</td>\n",
       "    </tr>\n",
       "    <tr>\n",
       "      <th>1374010</th>\n",
       "      <td>Credit card or prepaid card</td>\n",
       "      <td>About a couple of weeks ago I received a phone...</td>\n",
       "    </tr>\n",
       "    <tr>\n",
       "      <th>696624</th>\n",
       "      <td>Credit card or prepaid card</td>\n",
       "      <td>I was advised by XXXX XXXX XXXX, XXXX XXXX XXX...</td>\n",
       "    </tr>\n",
       "    <tr>\n",
       "      <th>3772197</th>\n",
       "      <td>Credit card or prepaid card</td>\n",
       "      <td>I am writing because i received a letter from ...</td>\n",
       "    </tr>\n",
       "    <tr>\n",
       "      <th>560066</th>\n",
       "      <td>Credit card or prepaid card</td>\n",
       "      <td>I believe some one is getting credit cards in ...</td>\n",
       "    </tr>\n",
       "    <tr>\n",
       "      <th>1485690</th>\n",
       "      <td>Credit card or prepaid card</td>\n",
       "      <td>On XX/XX/XXXX, I ( XXXX XXXX XXXX sent a claim...</td>\n",
       "    </tr>\n",
       "    <tr>\n",
       "      <th>1286783</th>\n",
       "      <td>Credit card or prepaid card</td>\n",
       "      <td>My US Bank Cash Rewards card and my XXXX credi...</td>\n",
       "    </tr>\n",
       "    <tr>\n",
       "      <th>1148067</th>\n",
       "      <td>Credit card or prepaid card</td>\n",
       "      <td>I reviewed my credit report and it shows a cha...</td>\n",
       "    </tr>\n",
       "    <tr>\n",
       "      <th>1755933</th>\n",
       "      <td>Credit card or prepaid card</td>\n",
       "      <td>XX/XX/2023 : Applied to have credit limit incr...</td>\n",
       "    </tr>\n",
       "    <tr>\n",
       "      <th>2952931</th>\n",
       "      <td>Credit card or prepaid card</td>\n",
       "      <td>I was a long time Bank of America customer. I ...</td>\n",
       "    </tr>\n",
       "    <tr>\n",
       "      <th>1473481</th>\n",
       "      <td>Credit card or prepaid card</td>\n",
       "      <td>My ex-wife made me an authorized user on her c...</td>\n",
       "    </tr>\n",
       "    <tr>\n",
       "      <th>328284</th>\n",
       "      <td>Credit card or prepaid card</td>\n",
       "      <td>I am writing today in regards to my account wi...</td>\n",
       "    </tr>\n",
       "    <tr>\n",
       "      <th>2724223</th>\n",
       "      <td>Credit card or prepaid card</td>\n",
       "      <td>The current issue is causing me significant di...</td>\n",
       "    </tr>\n",
       "    <tr>\n",
       "      <th>3087990</th>\n",
       "      <td>Credit card or prepaid card</td>\n",
       "      <td>Macy 's New York accessed my credit report / f...</td>\n",
       "    </tr>\n",
       "    <tr>\n",
       "      <th>694939</th>\n",
       "      <td>Credit card or prepaid card</td>\n",
       "      <td>Account # XXXX Account Type : Revolving Accoun...</td>\n",
       "    </tr>\n",
       "    <tr>\n",
       "      <th>1580469</th>\n",
       "      <td>Credit card or prepaid card</td>\n",
       "      <td>XXXX XXXX, XXXX XXXX, XXXX ( XXXX ) XXXX XXXX ...</td>\n",
       "    </tr>\n",
       "    <tr>\n",
       "      <th>2209735</th>\n",
       "      <td>Credit card or prepaid card</td>\n",
       "      <td>This isnt my XXXX t Ive never authorize or con...</td>\n",
       "    </tr>\n",
       "    <tr>\n",
       "      <th>966824</th>\n",
       "      <td>Credit card or prepaid card</td>\n",
       "      <td>XXXX XXXX in partnership with Experian and XXX...</td>\n",
       "    </tr>\n",
       "    <tr>\n",
       "      <th>1195974</th>\n",
       "      <td>Credit card or prepaid card</td>\n",
       "      <td>In XXXX of 2019, Macy 's put a late payment on...</td>\n",
       "    </tr>\n",
       "    <tr>\n",
       "      <th>831471</th>\n",
       "      <td>Credit card or prepaid card</td>\n",
       "      <td>In accordance with the fair credit reporting X...</td>\n",
       "    </tr>\n",
       "  </tbody>\n",
       "</table>\n",
       "</div>"
      ],
      "text/plain": [
       "                             Product  \\\n",
       "1795848  Credit card or prepaid card   \n",
       "471714   Credit card or prepaid card   \n",
       "1439608  Credit card or prepaid card   \n",
       "2380553  Credit card or prepaid card   \n",
       "986201   Credit card or prepaid card   \n",
       "1866351  Credit card or prepaid card   \n",
       "811589   Credit card or prepaid card   \n",
       "532930   Credit card or prepaid card   \n",
       "1869638  Credit card or prepaid card   \n",
       "3241057  Credit card or prepaid card   \n",
       "1038835  Credit card or prepaid card   \n",
       "1525094  Credit card or prepaid card   \n",
       "2711355  Credit card or prepaid card   \n",
       "2537411  Credit card or prepaid card   \n",
       "3907840  Credit card or prepaid card   \n",
       "1802494  Credit card or prepaid card   \n",
       "1374010  Credit card or prepaid card   \n",
       "696624   Credit card or prepaid card   \n",
       "3772197  Credit card or prepaid card   \n",
       "560066   Credit card or prepaid card   \n",
       "1485690  Credit card or prepaid card   \n",
       "1286783  Credit card or prepaid card   \n",
       "1148067  Credit card or prepaid card   \n",
       "1755933  Credit card or prepaid card   \n",
       "2952931  Credit card or prepaid card   \n",
       "1473481  Credit card or prepaid card   \n",
       "328284   Credit card or prepaid card   \n",
       "2724223  Credit card or prepaid card   \n",
       "3087990  Credit card or prepaid card   \n",
       "694939   Credit card or prepaid card   \n",
       "1580469  Credit card or prepaid card   \n",
       "2209735  Credit card or prepaid card   \n",
       "966824   Credit card or prepaid card   \n",
       "1195974  Credit card or prepaid card   \n",
       "831471   Credit card or prepaid card   \n",
       "\n",
       "                                        Consumer_complaint  \n",
       "1795848  I have had several credit cards closed by issu...  \n",
       "471714   I am XXXX XXXX XXXX and I am submitting this c...  \n",
       "1439608  CHASE CARD MADE A HARD INQUIRE ON MY CREDIT RE...  \n",
       "2380553  I checked my report on XX/XX/2021 and see this...  \n",
       "986201   I have not received confirmation not certified...  \n",
       "1866351  There are duplicate accounts reflected on all ...  \n",
       "811589   On XX/XX/XXXX, I called XXXX XXXX XXXX to inqu...  \n",
       "532930   XXXX card did a hard inquiry in my credit with...  \n",
       "1869638  The following debit card transactions of withd...  \n",
       "3241057  It is highly unjustifiable to have late paymen...  \n",
       "1038835  I have not received confirmation not certified...  \n",
       "1525094  I attempted to pay my HSBC XXXX ( Account XXXX...  \n",
       "2711355  capital one closed my account with no phone ca...  \n",
       "2537411  This is causing me a lot of stress and XXXX, a...  \n",
       "3907840  On XX/XX/2021 I received an email from a 3rd p...  \n",
       "1802494  XXXX years ago, My Credit Score was dropped fr...  \n",
       "1374010  About a couple of weeks ago I received a phone...  \n",
       "696624   I was advised by XXXX XXXX XXXX, XXXX XXXX XXX...  \n",
       "3772197  I am writing because i received a letter from ...  \n",
       "560066   I believe some one is getting credit cards in ...  \n",
       "1485690  On XX/XX/XXXX, I ( XXXX XXXX XXXX sent a claim...  \n",
       "1286783  My US Bank Cash Rewards card and my XXXX credi...  \n",
       "1148067  I reviewed my credit report and it shows a cha...  \n",
       "1755933  XX/XX/2023 : Applied to have credit limit incr...  \n",
       "2952931  I was a long time Bank of America customer. I ...  \n",
       "1473481  My ex-wife made me an authorized user on her c...  \n",
       "328284   I am writing today in regards to my account wi...  \n",
       "2724223  The current issue is causing me significant di...  \n",
       "3087990  Macy 's New York accessed my credit report / f...  \n",
       "694939   Account # XXXX Account Type : Revolving Accoun...  \n",
       "1580469  XXXX XXXX, XXXX XXXX, XXXX ( XXXX ) XXXX XXXX ...  \n",
       "2209735  This isnt my XXXX t Ive never authorize or con...  \n",
       "966824   XXXX XXXX in partnership with Experian and XXX...  \n",
       "1195974  In XXXX of 2019, Macy 's put a late payment on...  \n",
       "831471   In accordance with the fair credit reporting X...  "
      ]
     },
     "metadata": {},
     "output_type": "display_data"
    },
    {
     "name": "stdout",
     "output_type": "stream",
     "text": [
      "\n",
      "'Debt collection' predicted as 'Credit reporting, repair, or other' : 89 examples.\n"
     ]
    },
    {
     "data": {
      "text/html": [
       "<div>\n",
       "<style scoped>\n",
       "    .dataframe tbody tr th:only-of-type {\n",
       "        vertical-align: middle;\n",
       "    }\n",
       "\n",
       "    .dataframe tbody tr th {\n",
       "        vertical-align: top;\n",
       "    }\n",
       "\n",
       "    .dataframe thead th {\n",
       "        text-align: right;\n",
       "    }\n",
       "</style>\n",
       "<table border=\"1\" class=\"dataframe\">\n",
       "  <thead>\n",
       "    <tr style=\"text-align: right;\">\n",
       "      <th></th>\n",
       "      <th>Product</th>\n",
       "      <th>Consumer_complaint</th>\n",
       "    </tr>\n",
       "  </thead>\n",
       "  <tbody>\n",
       "    <tr>\n",
       "      <th>1332531</th>\n",
       "      <td>Debt collection</td>\n",
       "      <td>I have been disputing this account with Wells ...</td>\n",
       "    </tr>\n",
       "    <tr>\n",
       "      <th>3721812</th>\n",
       "      <td>Debt collection</td>\n",
       "      <td>I noticed these accounts reflecting on my cred...</td>\n",
       "    </tr>\n",
       "    <tr>\n",
       "      <th>2084414</th>\n",
       "      <td>Debt collection</td>\n",
       "      <td>I have contacted consumer adjustment company i...</td>\n",
       "    </tr>\n",
       "    <tr>\n",
       "      <th>1835001</th>\n",
       "      <td>Debt collection</td>\n",
       "      <td>I am the general executor and trustee of the X...</td>\n",
       "    </tr>\n",
       "    <tr>\n",
       "      <th>2337054</th>\n",
       "      <td>Debt collection</td>\n",
       "      <td>I have contacted this company through the cred...</td>\n",
       "    </tr>\n",
       "    <tr>\n",
       "      <th>...</th>\n",
       "      <td>...</td>\n",
       "      <td>...</td>\n",
       "    </tr>\n",
       "    <tr>\n",
       "      <th>804289</th>\n",
       "      <td>Debt collection</td>\n",
       "      <td>On XX/XX/2018 notice XXXX XXXX balance of {$26...</td>\n",
       "    </tr>\n",
       "    <tr>\n",
       "      <th>3509657</th>\n",
       "      <td>Debt collection</td>\n",
       "      <td>This dept is not mine and its. Makeing my life...</td>\n",
       "    </tr>\n",
       "    <tr>\n",
       "      <th>3313205</th>\n",
       "      <td>Debt collection</td>\n",
       "      <td>im receving bills from Lowes for someone named...</td>\n",
       "    </tr>\n",
       "    <tr>\n",
       "      <th>1478356</th>\n",
       "      <td>Debt collection</td>\n",
       "      <td>THIS INFORMATION IS INCORRECT IN MORE THAN ONE...</td>\n",
       "    </tr>\n",
       "    <tr>\n",
       "      <th>339255</th>\n",
       "      <td>Debt collection</td>\n",
       "      <td>XXXX XXXX put a collection on my credit report...</td>\n",
       "    </tr>\n",
       "  </tbody>\n",
       "</table>\n",
       "<p>89 rows × 2 columns</p>\n",
       "</div>"
      ],
      "text/plain": [
       "                 Product                                 Consumer_complaint\n",
       "1332531  Debt collection  I have been disputing this account with Wells ...\n",
       "3721812  Debt collection  I noticed these accounts reflecting on my cred...\n",
       "2084414  Debt collection  I have contacted consumer adjustment company i...\n",
       "1835001  Debt collection  I am the general executor and trustee of the X...\n",
       "2337054  Debt collection  I have contacted this company through the cred...\n",
       "...                  ...                                                ...\n",
       "804289   Debt collection  On XX/XX/2018 notice XXXX XXXX balance of {$26...\n",
       "3509657  Debt collection  This dept is not mine and its. Makeing my life...\n",
       "3313205  Debt collection  im receving bills from Lowes for someone named...\n",
       "1478356  Debt collection  THIS INFORMATION IS INCORRECT IN MORE THAN ONE...\n",
       "339255   Debt collection  XXXX XXXX put a collection on my credit report...\n",
       "\n",
       "[89 rows x 2 columns]"
      ]
     },
     "metadata": {},
     "output_type": "display_data"
    },
    {
     "name": "stdout",
     "output_type": "stream",
     "text": [
      "\n"
     ]
    },
    {
     "ename": "IndexError",
     "evalue": "index 13 is out of bounds for axis 0 with size 13",
     "output_type": "error",
     "traceback": [
      "\u001b[1;31m---------------------------------------------------------------------------\u001b[0m",
      "\u001b[1;31mIndexError\u001b[0m                                Traceback (most recent call last)",
      "Cell \u001b[1;32mIn[25], line 3\u001b[0m\n\u001b[0;32m      1\u001b[0m \u001b[38;5;28;01mfor\u001b[39;00m predicted \u001b[38;5;129;01min\u001b[39;00m category_id_df\u001b[38;5;241m.\u001b[39mcategory_id:\n\u001b[0;32m      2\u001b[0m   \u001b[38;5;28;01mfor\u001b[39;00m actual \u001b[38;5;129;01min\u001b[39;00m category_id_df\u001b[38;5;241m.\u001b[39mcategory_id:\n\u001b[1;32m----> 3\u001b[0m     \u001b[38;5;28;01mif\u001b[39;00m predicted \u001b[38;5;241m!=\u001b[39m actual \u001b[38;5;129;01mand\u001b[39;00m \u001b[43mconf_mat\u001b[49m\u001b[43m[\u001b[49m\u001b[43mactual\u001b[49m\u001b[43m,\u001b[49m\u001b[43m \u001b[49m\u001b[43mpredicted\u001b[49m\u001b[43m]\u001b[49m \u001b[38;5;241m>\u001b[39m\u001b[38;5;241m=\u001b[39m \u001b[38;5;241m20\u001b[39m:\n\u001b[0;32m      4\u001b[0m       \u001b[38;5;28mprint\u001b[39m(\u001b[38;5;124m\"\u001b[39m\u001b[38;5;124m'\u001b[39m\u001b[38;5;132;01m{}\u001b[39;00m\u001b[38;5;124m'\u001b[39m\u001b[38;5;124m predicted as \u001b[39m\u001b[38;5;124m'\u001b[39m\u001b[38;5;132;01m{}\u001b[39;00m\u001b[38;5;124m'\u001b[39m\u001b[38;5;124m : \u001b[39m\u001b[38;5;132;01m{}\u001b[39;00m\u001b[38;5;124m examples.\u001b[39m\u001b[38;5;124m\"\u001b[39m\u001b[38;5;241m.\u001b[39mformat(id_to_category[actual], \n\u001b[0;32m      5\u001b[0m                                                            id_to_category[predicted], \n\u001b[0;32m      6\u001b[0m                                                            conf_mat[actual, predicted]))\n\u001b[0;32m      8\u001b[0m       display(df2\u001b[38;5;241m.\u001b[39mloc[indices_test[(y_test \u001b[38;5;241m==\u001b[39m actual) \u001b[38;5;241m&\u001b[39m (y_pred \u001b[38;5;241m==\u001b[39m predicted)]][[\u001b[38;5;124m'\u001b[39m\u001b[38;5;124mProduct\u001b[39m\u001b[38;5;124m'\u001b[39m, \n\u001b[0;32m      9\u001b[0m                                                                 \u001b[38;5;124m'\u001b[39m\u001b[38;5;124mConsumer_complaint\u001b[39m\u001b[38;5;124m'\u001b[39m]])\n",
      "\u001b[1;31mIndexError\u001b[0m: index 13 is out of bounds for axis 0 with size 13"
     ]
    }
   ],
   "source": [
    "for predicted in category_id_df.category_id:\n",
    "  for actual in category_id_df.category_id:\n",
    "    if predicted != actual and conf_mat[actual, predicted] >= 20:\n",
    "      print(\"'{}' predicted as '{}' : {} examples.\".format(id_to_category[actual], \n",
    "                                                           id_to_category[predicted], \n",
    "                                                           conf_mat[actual, predicted]))\n",
    "    \n",
    "      display(df2.loc[indices_test[(y_test == actual) & (y_pred == predicted)]][['Product', \n",
    "                                                                'Consumer_complaint']])\n",
    "      print('')"
   ]
  },
  {
   "cell_type": "markdown",
   "metadata": {},
   "source": [
    "#### Most correlated terms with each category"
   ]
  },
  {
   "cell_type": "code",
   "execution_count": 27,
   "metadata": {},
   "outputs": [
    {
     "name": "stdout",
     "output_type": "stream",
     "text": [
      "\n",
      "==> 'Bank account or service':\n",
      "  * Top unigrams: bank, promotion, branch, 2016\n",
      "  * Top bigrams: xxxx 2015, xx 2016, bank did, checking account\n",
      "\n",
      "==> 'Checking or savings account':\n",
      "  * Top unigrams: bank, savings, chime, checking\n",
      "  * Top bigrams: debit card, savings account, 36 00, overdraft fees\n",
      "\n",
      "==> 'Consumer Loan':\n",
      "  * Top unigrams: car, motor, vehicle, acceptance\n",
      "  * Top bigrams: xxxx 16, report owe, going pay, auto xxxx\n",
      "\n",
      "==> 'Credit card or prepaid card':\n",
      "  * Top unigrams: card, amex, purchase, capital\n",
      "  * Top bigrams: american express, pay balance, missed payment, care credit\n",
      "\n",
      "==> 'Credit reporting or other personal consumer reports':\n",
      "  * Top unigrams: 166b, usc, 604, purpose\n",
      "  * Top bigrams: 166b creditor, 15 usc, xxxx violated, late purpose\n",
      "\n",
      "==> 'Credit reporting, repair, or other':\n",
      "  * Top unigrams: equifax, experian, transunion, inquiries\n",
      "  * Top bigrams: victim identity, xxxx xxxx, experian xxxx, late payments\n",
      "\n",
      "==> 'Debt collection':\n",
      "  * Top unigrams: debt, recovery, collection, owed\n",
      "  * Top bigrams: credit loan, account belongs, owed money, negative report\n",
      "\n",
      "==> 'Money transfer, virtual currency, or money service':\n",
      "  * Top unigrams: paypal, coinbase, zelle, transfer\n",
      "  * Top bigrams: send money, cash app, xxxx told, check xxxx\n",
      "\n",
      "==> 'Money transfers':\n",
      "  * Top unigrams: traded, game, essentially, money\n",
      "  * Top bigrams: took money, business days, complaint said, company party\n",
      "\n",
      "==> 'Mortgage':\n",
      "  * Top unigrams: mortgage, escrow, modification, home\n",
      "  * Top bigrams: loan care, payment xx, mortgage company, loan modification\n",
      "\n",
      "==> 'Other financial service':\n",
      "  * Top unigrams: proposal, apology, resend, compensate\n",
      "  * Top bigrams: money order, pay sent, limited income, contact creditors\n",
      "\n",
      "==> 'Payday loan, title loan, or personal loan':\n",
      "  * Top unigrams: loan, payday, affirm, finance\n",
      "  * Top bigrams: aware charge, reporting negative, personal loan, loan said\n",
      "\n",
      "==> 'Student loan':\n",
      "  * Top unigrams: navient, loans, school, repayment\n",
      "  * Top bigrams: student loan, fedloan servicing, great lakes, pick phone\n",
      "\n",
      "==> 'Vehicle loan or lease':\n",
      "  * Top unigrams: vehicle, bridgecrest, payments, santander\n",
      "  * Top bigrams: delete credit, right xxxx, santander consumer, ally financial\n"
     ]
    }
   ],
   "source": [
    "model.fit(features, labels)\n",
    "\n",
    "N = 4\n",
    "for Product, category_id in sorted(category_to_id.items()):\n",
    "  indices = np.argsort(model.coef_[category_id])\n",
    "  feature_names = np.array(tfidf.get_feature_names_out())[indices]\n",
    "  unigrams = [v for v in reversed(feature_names) if len(v.split(' ')) == 1][:N]\n",
    "  bigrams = [v for v in reversed(feature_names) if len(v.split(' ')) == 2][:N]\n",
    "  print(\"\\n==> '{}':\".format(Product))\n",
    "  print(\"  * Top unigrams: %s\" %(', '.join(unigrams)))\n",
    "  print(\"  * Top bigrams: %s\" %(', '.join(bigrams)))"
   ]
  },
  {
   "cell_type": "markdown",
   "metadata": {},
   "source": [
    "<a id='pred'></a>\n",
    "## Predictions\n",
    "\n",
    "Now let's make a few predictions on unseen data.<br>"
   ]
  },
  {
   "cell_type": "code",
   "execution_count": 28,
   "metadata": {},
   "outputs": [],
   "source": [
    "X_train, X_test, y_train, y_test = train_test_split(X, y, \n",
    "                                                    test_size=0.25,\n",
    "                                                    random_state = 0)\n",
    "\n",
    "tfidf = TfidfVectorizer(sublinear_tf=True, min_df=5,\n",
    "                        ngram_range=(1, 2), \n",
    "                        stop_words='english')\n",
    "\n",
    "fitted_vectorizer = tfidf.fit(X_train)\n",
    "tfidf_vectorizer_vectors = fitted_vectorizer.transform(X_train)\n",
    "\n",
    "model = LinearSVC().fit(tfidf_vectorizer_vectors, y_train)"
   ]
  },
  {
   "cell_type": "markdown",
   "metadata": {},
   "source": [
    "Let's see what is the classification that our model gives to this new complaint."
   ]
  },
  {
   "cell_type": "code",
   "execution_count": 29,
   "metadata": {},
   "outputs": [
    {
     "name": "stdout",
     "output_type": "stream",
     "text": [
      "['Student loan']\n"
     ]
    }
   ],
   "source": [
    "new_complaint = \"\"\"I have been enrolled back at XXXX XXXX University in the XX/XX/XXXX. Recently, i have been harassed by \\\n",
    "Navient for the last month. I have faxed in paperwork providing them with everything they needed. And yet I am still getting \\\n",
    "phone calls for payments. Furthermore, Navient is now reporting to the credit bureaus that I am late. At this point, \\\n",
    "Navient needs to get their act together to avoid me taking further action. I have been enrolled the entire time and my \\\n",
    "deferment should be valid with my planned graduation date being the XX/XX/XXXX.\"\"\"\n",
    "print(model.predict(fitted_vectorizer.transform([new_complaint])))"
   ]
  },
  {
   "cell_type": "markdown",
   "metadata": {},
   "source": [
    "The algorithm has classified this text as a \"Student loan\" complaint. Now let's look at the real label of this complaint."
   ]
  },
  {
   "cell_type": "code",
   "execution_count": 30,
   "metadata": {},
   "outputs": [
    {
     "data": {
      "text/html": [
       "<div>\n",
       "<style scoped>\n",
       "    .dataframe tbody tr th:only-of-type {\n",
       "        vertical-align: middle;\n",
       "    }\n",
       "\n",
       "    .dataframe tbody tr th {\n",
       "        vertical-align: top;\n",
       "    }\n",
       "\n",
       "    .dataframe thead th {\n",
       "        text-align: right;\n",
       "    }\n",
       "</style>\n",
       "<table border=\"1\" class=\"dataframe\">\n",
       "  <thead>\n",
       "    <tr style=\"text-align: right;\">\n",
       "      <th></th>\n",
       "      <th>Product</th>\n",
       "      <th>Consumer_complaint</th>\n",
       "      <th>category_id</th>\n",
       "    </tr>\n",
       "  </thead>\n",
       "  <tbody>\n",
       "  </tbody>\n",
       "</table>\n",
       "</div>"
      ],
      "text/plain": [
       "Empty DataFrame\n",
       "Columns: [Product, Consumer_complaint, category_id]\n",
       "Index: []"
      ]
     },
     "execution_count": 30,
     "metadata": {},
     "output_type": "execute_result"
    }
   ],
   "source": [
    "df2[df2['Consumer_complaint'] == new_complaint]"
   ]
  },
  {
   "cell_type": "markdown",
   "metadata": {},
   "source": [
    "Our model was correct, the complaint was about **Student Loan**. Note that this customer has used terms with high TFIDF score, such us **Navient[](http://)**.<br><br>\n",
    "Let's check another example."
   ]
  },
  {
   "cell_type": "code",
   "execution_count": 31,
   "metadata": {},
   "outputs": [
    {
     "name": "stdout",
     "output_type": "stream",
     "text": [
      "['Credit reporting, repair, or other']\n"
     ]
    }
   ],
   "source": [
    "new_complaint_2 = \"\"\"Equifax exposed my personal information without my consent, as part of their recent data breach. \\\n",
    "In addition, they dragged their feet in the announcement of the report, and even allowed their upper management to sell \\\n",
    "off stock before the announcement.\"\"\"\n",
    "print(model.predict(fitted_vectorizer.transform([new_complaint_2])))"
   ]
  },
  {
   "cell_type": "code",
   "execution_count": 32,
   "metadata": {},
   "outputs": [
    {
     "data": {
      "text/html": [
       "<div>\n",
       "<style scoped>\n",
       "    .dataframe tbody tr th:only-of-type {\n",
       "        vertical-align: middle;\n",
       "    }\n",
       "\n",
       "    .dataframe tbody tr th {\n",
       "        vertical-align: top;\n",
       "    }\n",
       "\n",
       "    .dataframe thead th {\n",
       "        text-align: right;\n",
       "    }\n",
       "</style>\n",
       "<table border=\"1\" class=\"dataframe\">\n",
       "  <thead>\n",
       "    <tr style=\"text-align: right;\">\n",
       "      <th></th>\n",
       "      <th>Product</th>\n",
       "      <th>Consumer_complaint</th>\n",
       "      <th>category_id</th>\n",
       "    </tr>\n",
       "  </thead>\n",
       "  <tbody>\n",
       "  </tbody>\n",
       "</table>\n",
       "</div>"
      ],
      "text/plain": [
       "Empty DataFrame\n",
       "Columns: [Product, Consumer_complaint, category_id]\n",
       "Index: []"
      ]
     },
     "execution_count": 32,
     "metadata": {},
     "output_type": "execute_result"
    }
   ],
   "source": [
    "df2[df2['Consumer_complaint'] == new_complaint_2]"
   ]
  },
  {
   "cell_type": "markdown",
   "metadata": {},
   "source": [
    "Again, the algorithm correctly classified the caomplaint as __\"Credit reporting, repair, or other\"__. Note that this customer has used terms with high TFIDF score, such us __equifax, report__. <br><br>\n",
    "Although our model is not going to be all the time correct when classifying new complaints, it does a good job."
   ]
  },
  {
   "cell_type": "code",
   "execution_count": null,
   "metadata": {},
   "outputs": [],
   "source": []
  }
 ],
 "metadata": {
  "kernelspec": {
   "display_name": "Python 3 (ipykernel)",
   "language": "python",
   "name": "python3"
  },
  "language_info": {
   "codemirror_mode": {
    "name": "ipython",
    "version": 3
   },
   "file_extension": ".py",
   "mimetype": "text/x-python",
   "name": "python",
   "nbconvert_exporter": "python",
   "pygments_lexer": "ipython3",
   "version": "3.10.9"
  }
 },
 "nbformat": 4,
 "nbformat_minor": 1
}
